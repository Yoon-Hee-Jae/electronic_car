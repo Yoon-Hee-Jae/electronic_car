{
  "cells": [
    {
      "cell_type": "code",
      "execution_count": null,
      "id": "a808acb1",
      "metadata": {
        "id": "a808acb1"
      },
      "outputs": [],
      "source": [
        "import pandas as pd\n",
        "import numpy as np\n",
        "import matplotlib.pyplot as plt\n",
        "import seaborn as sns"
      ]
    },
    {
      "cell_type": "code",
      "execution_count": null,
      "id": "92dde016",
      "metadata": {
        "id": "92dde016"
      },
      "outputs": [],
      "source": [
        "sns.set_theme(style='whitegrid', font_scale=1.5)\n",
        "sns.set_palette('Set2', n_colors=10)\n",
        "plt.rc('font', family='malgun gothic')\n",
        "plt.rc('axes', unicode_minus=False)"
      ]
    },
    {
      "cell_type": "code",
      "execution_count": null,
      "id": "310971cf",
      "metadata": {
        "id": "310971cf"
      },
      "outputs": [],
      "source": [
        "import streamlit as st\n",
        "from datetime import date"
      ]
    },
    {
      "cell_type": "code",
      "execution_count": null,
      "id": "5dbfd174",
      "metadata": {
        "id": "5dbfd174"
      },
      "outputs": [],
      "source": [
        "df = pd.read_csv('clensing data.csv')"
      ]
    },
    {
      "cell_type": "code",
      "execution_count": null,
      "id": "1adfa4d2",
      "metadata": {
        "id": "1adfa4d2"
      },
      "outputs": [],
      "source": [
        "df['충전시작시각']=pd.to_datetime(df['충전시작시각'], format='%Y-%m-%d')\n",
        "df['충전종료시각']=pd.to_datetime(df['충전종료시각'], format='%Y-%m-%d')"
      ]
    },
    {
      "cell_type": "code",
      "execution_count": null,
      "id": "e49cf8a5",
      "metadata": {
        "id": "e49cf8a5",
        "outputId": "dbb1a984-d9cc-40ef-eb45-f3384cc82cfc"
      },
      "outputs": [
        {
          "name": "stdout",
          "output_type": "stream",
          "text": [
            "<class 'pandas.core.frame.DataFrame'>\n",
            "RangeIndex: 635700 entries, 0 to 635699\n",
            "Data columns (total 14 columns):\n",
            " #   Column      Non-Null Count   Dtype         \n",
            "---  ------      --------------   -----         \n",
            " 0   Unnamed: 0  635700 non-null  int64         \n",
            " 1   충전구분        635700 non-null  object        \n",
            " 2   충전소명        635700 non-null  object        \n",
            " 3   주소          635700 non-null  object        \n",
            " 4   주소_구        635700 non-null  object        \n",
            " 5   충전기용량       635700 non-null  float64       \n",
            " 6   충전량         635700 non-null  float64       \n",
            " 7   총충전시간       635700 non-null  float64       \n",
            " 8   충전시간        635700 non-null  int64         \n",
            " 9   충전분         635700 non-null  int64         \n",
            " 10  충전시작시각      635700 non-null  datetime64[ns]\n",
            " 11  충전종료시각      635700 non-null  datetime64[ns]\n",
            " 12  Latitude    635700 non-null  float64       \n",
            " 13  Longitude   635700 non-null  float64       \n",
            "dtypes: datetime64[ns](2), float64(5), int64(3), object(4)\n",
            "memory usage: 67.9+ MB\n"
          ]
        }
      ],
      "source": [
        "df.info()"
      ]
    },
    {
      "cell_type": "code",
      "execution_count": null,
      "id": "c95410de",
      "metadata": {
        "id": "c95410de",
        "outputId": "cae8b6ca-bceb-4b93-a456-d1190116e4d3"
      },
      "outputs": [
        {
          "data": {
            "text/html": [
              "<div>\n",
              "<style scoped>\n",
              "    .dataframe tbody tr th:only-of-type {\n",
              "        vertical-align: middle;\n",
              "    }\n",
              "\n",
              "    .dataframe tbody tr th {\n",
              "        vertical-align: top;\n",
              "    }\n",
              "\n",
              "    .dataframe thead th {\n",
              "        text-align: right;\n",
              "    }\n",
              "</style>\n",
              "<table border=\"1\" class=\"dataframe\">\n",
              "  <thead>\n",
              "    <tr style=\"text-align: right;\">\n",
              "      <th></th>\n",
              "      <th>Unnamed: 0</th>\n",
              "      <th>충전구분</th>\n",
              "      <th>충전소명</th>\n",
              "      <th>주소</th>\n",
              "      <th>주소_구</th>\n",
              "      <th>충전기용량</th>\n",
              "      <th>충전량</th>\n",
              "      <th>총충전시간</th>\n",
              "      <th>충전시간</th>\n",
              "      <th>충전분</th>\n",
              "      <th>충전시작시각</th>\n",
              "      <th>충전종료시각</th>\n",
              "      <th>Latitude</th>\n",
              "      <th>Longitude</th>\n",
              "    </tr>\n",
              "  </thead>\n",
              "  <tbody>\n",
              "    <tr>\n",
              "      <th>0</th>\n",
              "      <td>0</td>\n",
              "      <td>급속</td>\n",
              "      <td>영등포전력지사</td>\n",
              "      <td>영등포구 경인로 878</td>\n",
              "      <td>영등포구</td>\n",
              "      <td>50.0</td>\n",
              "      <td>0.05</td>\n",
              "      <td>0.00</td>\n",
              "      <td>0</td>\n",
              "      <td>0</td>\n",
              "      <td>2021-01-01</td>\n",
              "      <td>2021-01-01</td>\n",
              "      <td>37.517129</td>\n",
              "      <td>126.910236</td>\n",
              "    </tr>\n",
              "    <tr>\n",
              "      <th>1</th>\n",
              "      <td>1</td>\n",
              "      <td>급속</td>\n",
              "      <td>영등포전력지사</td>\n",
              "      <td>영등포구 경인로 878</td>\n",
              "      <td>영등포구</td>\n",
              "      <td>50.0</td>\n",
              "      <td>13.10</td>\n",
              "      <td>0.48</td>\n",
              "      <td>0</td>\n",
              "      <td>29</td>\n",
              "      <td>2021-01-02</td>\n",
              "      <td>2021-01-02</td>\n",
              "      <td>37.517129</td>\n",
              "      <td>126.910236</td>\n",
              "    </tr>\n",
              "    <tr>\n",
              "      <th>2</th>\n",
              "      <td>2</td>\n",
              "      <td>급속</td>\n",
              "      <td>영등포전력지사</td>\n",
              "      <td>영등포구 경인로 878</td>\n",
              "      <td>영등포구</td>\n",
              "      <td>50.0</td>\n",
              "      <td>47.56</td>\n",
              "      <td>1.55</td>\n",
              "      <td>1</td>\n",
              "      <td>33</td>\n",
              "      <td>2021-01-02</td>\n",
              "      <td>2021-01-02</td>\n",
              "      <td>37.517129</td>\n",
              "      <td>126.910236</td>\n",
              "    </tr>\n",
              "    <tr>\n",
              "      <th>3</th>\n",
              "      <td>3</td>\n",
              "      <td>급속</td>\n",
              "      <td>영등포전력지사</td>\n",
              "      <td>영등포구 경인로 878</td>\n",
              "      <td>영등포구</td>\n",
              "      <td>50.0</td>\n",
              "      <td>24.77</td>\n",
              "      <td>0.63</td>\n",
              "      <td>0</td>\n",
              "      <td>38</td>\n",
              "      <td>2021-01-04</td>\n",
              "      <td>2021-01-04</td>\n",
              "      <td>37.517129</td>\n",
              "      <td>126.910236</td>\n",
              "    </tr>\n",
              "    <tr>\n",
              "      <th>4</th>\n",
              "      <td>4</td>\n",
              "      <td>급속</td>\n",
              "      <td>영등포전력지사</td>\n",
              "      <td>영등포구 경인로 878</td>\n",
              "      <td>영등포구</td>\n",
              "      <td>50.0</td>\n",
              "      <td>19.21</td>\n",
              "      <td>0.48</td>\n",
              "      <td>0</td>\n",
              "      <td>29</td>\n",
              "      <td>2021-01-04</td>\n",
              "      <td>2021-01-04</td>\n",
              "      <td>37.517129</td>\n",
              "      <td>126.910236</td>\n",
              "    </tr>\n",
              "  </tbody>\n",
              "</table>\n",
              "</div>"
            ],
            "text/plain": [
              "   Unnamed: 0 충전구분     충전소명            주소  주소_구  충전기용량    충전량  총충전시간  충전시간  \\\n",
              "0           0   급속  영등포전력지사  영등포구 경인로 878  영등포구   50.0   0.05   0.00     0   \n",
              "1           1   급속  영등포전력지사  영등포구 경인로 878  영등포구   50.0  13.10   0.48     0   \n",
              "2           2   급속  영등포전력지사  영등포구 경인로 878  영등포구   50.0  47.56   1.55     1   \n",
              "3           3   급속  영등포전력지사  영등포구 경인로 878  영등포구   50.0  24.77   0.63     0   \n",
              "4           4   급속  영등포전력지사  영등포구 경인로 878  영등포구   50.0  19.21   0.48     0   \n",
              "\n",
              "   충전분     충전시작시각     충전종료시각   Latitude   Longitude  \n",
              "0    0 2021-01-01 2021-01-01  37.517129  126.910236  \n",
              "1   29 2021-01-02 2021-01-02  37.517129  126.910236  \n",
              "2   33 2021-01-02 2021-01-02  37.517129  126.910236  \n",
              "3   38 2021-01-04 2021-01-04  37.517129  126.910236  \n",
              "4   29 2021-01-04 2021-01-04  37.517129  126.910236  "
            ]
          },
          "execution_count": 9,
          "metadata": {},
          "output_type": "execute_result"
        }
      ],
      "source": [
        "df.head()"
      ]
    },
    {
      "cell_type": "code",
      "execution_count": null,
      "id": "3cf733c1",
      "metadata": {
        "id": "3cf733c1",
        "outputId": "05d892c8-7123-47fa-e3dd-6ab0cbe5b283"
      },
      "outputs": [
        {
          "data": {
            "text/plain": [
              "count    635700.000000\n",
              "mean          2.014115\n",
              "std           1.718866\n",
              "min           0.000000\n",
              "25%           0.730000\n",
              "50%           1.400000\n",
              "75%           2.970000\n",
              "max           5.980000\n",
              "Name: 총충전시간, dtype: float64"
            ]
          },
          "execution_count": 10,
          "metadata": {},
          "output_type": "execute_result"
        }
      ],
      "source": [
        "df['총충전시간'].describe()"
      ]
    },
    {
      "cell_type": "code",
      "execution_count": null,
      "id": "b74a7b50",
      "metadata": {
        "id": "b74a7b50"
      },
      "outputs": [],
      "source": [
        "st.set_page_config(page_title='Data_app', layout='wide')\n",
        "st.title(\"Data_app\")"
      ]
    },
    {
      "cell_type": "code",
      "execution_count": null,
      "id": "20f8a62a",
      "metadata": {
        "id": "20f8a62a"
      },
      "outputs": [],
      "source": [
        "if st.button('새로고침'):\n",
        "    st.experimental_rerun()"
      ]
    },
    {
      "cell_type": "code",
      "execution_count": null,
      "id": "fc4574ef",
      "metadata": {
        "id": "fc4574ef"
      },
      "outputs": [],
      "source": [
        "my_df = df\n",
        "st.sidebar.title(\"조건 필터\")\n",
        "st.sidebar.header(\"날짜 조건\")\n",
        "col1, col2 = st.sidebar.columns(2)\n",
        "with col1:\n",
        "    start_date = st.date_input(\"시작일시\", date(2021, 1, 1),\n",
        "                                       min_value=date(2021,1,1),\n",
        "                                       max_value=date(2021,12,31))\n",
        "with col2:\n",
        "    end_date = st.date_input(\"종료일시\", date(2021, 12, 31),\n",
        "                                     min_value=date(2021,1,1),\n",
        "                                     max_value=date(2021,12,31))\n",
        "my_df = my_df[my_df['충전시작시각'].dt.date.between(start_date, end_date)]"
      ]
    },
    {
      "cell_type": "code",
      "execution_count": null,
      "id": "fc0abca8",
      "metadata": {
        "id": "fc0abca8"
      },
      "outputs": [],
      "source": [
        "# In[10]:\n",
        "\n",
        "\n",
        "st.sidebar.header('충전기')\n",
        "option01 = st.sidebar.multiselect('충전구분', (my_df.충전구분.unique()), default=(my_df.충전구분.unique()))\n",
        "my_df = my_df[my_df.충전구분.isin(option01)]\n",
        "option02 = st.sidebar.multiselect('충전기용량', (my_df.충전기용량.unique()), default=(my_df.충전기용량.unique()))\n",
        "my_df = my_df[my_df.충전기용량.isin(option02)]"
      ]
    },
    {
      "cell_type": "code",
      "execution_count": null,
      "id": "55cf6c8f",
      "metadata": {
        "id": "55cf6c8f"
      },
      "outputs": [],
      "source": [
        "# In[11]:\n",
        "\n",
        "\n",
        "st.sidebar.header('지역구 선택')\n",
        "option03 = st.sidebar.multiselect('지역구', (my_df.주소_구.unique()), default=(my_df.주소_구.unique()))\n",
        "my_df = my_df[my_df.주소_구.isin(option03)]"
      ]
    },
    {
      "cell_type": "code",
      "execution_count": null,
      "id": "f865346b",
      "metadata": {
        "id": "f865346b"
      },
      "outputs": [],
      "source": [
        "# In[12]:\n",
        "\n",
        "\n",
        "st.sidebar.header('충전시간')\n",
        "option04 = st.sidebar.slider('충전시간',0.0,6.0,(0.0,6.0))\n",
        "my_df=my_df[my_df['총충전시간']==option04]"
      ]
    },
    {
      "cell_type": "code",
      "execution_count": null,
      "id": "bb013239",
      "metadata": {
        "id": "bb013239"
      },
      "outputs": [],
      "source": []
    },
    {
      "cell_type": "code",
      "execution_count": null,
      "id": "6942e41d",
      "metadata": {
        "id": "6942e41d"
      },
      "outputs": [],
      "source": []
    },
    {
      "cell_type": "code",
      "execution_count": null,
      "id": "2dfe5b69",
      "metadata": {
        "scrolled": true,
        "id": "2dfe5b69",
        "outputId": "55a4a85f-05f2-4ef0-8148-db611293aab3"
      },
      "outputs": [
        {
          "ename": "SyntaxError",
          "evalue": "invalid syntax (432022559.py, line 1)",
          "output_type": "error",
          "traceback": [
            "\u001b[0;36m  Cell \u001b[0;32mIn[13], line 1\u001b[0;36m\u001b[0m\n\u001b[0;31m    streamlit run data_app_team.py\u001b[0m\n\u001b[0m              ^\u001b[0m\n\u001b[0;31mSyntaxError\u001b[0m\u001b[0;31m:\u001b[0m invalid syntax\n"
          ]
        }
      ],
      "source": [
        "streamlit run data_app_team.py"
      ]
    },
    {
      "cell_type": "code",
      "execution_count": null,
      "id": "f98ed60f",
      "metadata": {
        "id": "f98ed60f"
      },
      "outputs": [],
      "source": []
    }
  ],
  "metadata": {
    "kernelspec": {
      "display_name": "Python 3 (ipykernel)",
      "language": "python",
      "name": "python3"
    },
    "language_info": {
      "codemirror_mode": {
        "name": "ipython",
        "version": 3
      },
      "file_extension": ".py",
      "mimetype": "text/x-python",
      "name": "python",
      "nbconvert_exporter": "python",
      "pygments_lexer": "ipython3",
      "version": "3.8.17"
    },
    "colab": {
      "provenance": []
    }
  },
  "nbformat": 4,
  "nbformat_minor": 5
}